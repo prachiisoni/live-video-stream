{
 "cells": [
  {
   "cell_type": "code",
   "execution_count": 2,
   "id": "ebcb69da",
   "metadata": {},
   "outputs": [],
   "source": [
    "import socket, cv2, pickle,struct"
   ]
  },
  {
   "cell_type": "code",
   "execution_count": 3,
   "id": "35fc1a4a",
   "metadata": {},
   "outputs": [
    {
     "name": "stdout",
     "output_type": "stream",
     "text": [
      "HOST IP: 192.168.56.1\n"
     ]
    }
   ],
   "source": [
    "# Socket Create\n",
    "server_socket = socket.socket(socket.AF_INET,socket.SOCK_STREAM)\n",
    "host_name  = socket.gethostname()\n",
    "host_ip = socket.gethostbyname(host_name)\n",
    "print('HOST IP:',host_ip)\n",
    "port = 1234\n",
    "socket_address = ('192.168.56.1',port)"
   ]
  },
  {
   "cell_type": "code",
   "execution_count": 4,
   "id": "e2978eb1",
   "metadata": {},
   "outputs": [],
   "source": [
    "# Socket Bind\n",
    "server_socket.bind(socket_address)"
   ]
  },
  {
   "cell_type": "code",
   "execution_count": 5,
   "id": "81d7f33d",
   "metadata": {},
   "outputs": [
    {
     "name": "stdout",
     "output_type": "stream",
     "text": [
      "LISTENING AT ('192.168.56.1', 1234)\n"
     ]
    }
   ],
   "source": [
    "# Socket Listen\n",
    "server_socket.listen(5)\n",
    "print(\"LISTENING AT\",socket_address)"
   ]
  },
  {
   "cell_type": "code",
   "execution_count": null,
   "id": "96f32cab",
   "metadata": {},
   "outputs": [],
   "source": [
    "# Socket Accept\n",
    "while True:\n",
    "    client_socket,addr = server_socket.accept()\n",
    "    print('GOT CONNECTION FROM:',addr)\n",
    "    if client_socket:\n",
    "        vid = cv2.VideoCapture(0)\n",
    "        \n",
    "        while(vid.isOpened()):\n",
    "            img,frame = vid.read()\n",
    "            a = pickle.dumps(frame)\n",
    "            message = struct.pack(\"Q\",len(a))+a\n",
    "            client_socket.sendall(message)\n",
    "            \n",
    "            cv2.imshow('TRANSMITTING VIDEO',frame)\n",
    "            key = cv2.waitKey(1) & 0xFF\n",
    "            if key ==ord('q'):\n",
    "                client_socket.close()"
   ]
  },
  {
   "cell_type": "code",
   "execution_count": null,
   "id": "4a6cee59",
   "metadata": {},
   "outputs": [],
   "source": []
  }
 ],
 "metadata": {
  "kernelspec": {
   "display_name": "Python 3",
   "language": "python",
   "name": "python3"
  },
  "language_info": {
   "codemirror_mode": {
    "name": "ipython",
    "version": 3
   },
   "file_extension": ".py",
   "mimetype": "text/x-python",
   "name": "python",
   "nbconvert_exporter": "python",
   "pygments_lexer": "ipython3",
   "version": "3.8.8"
  }
 },
 "nbformat": 4,
 "nbformat_minor": 5
}
